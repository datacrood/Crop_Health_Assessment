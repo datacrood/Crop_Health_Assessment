{
 "cells": [
  {
   "cell_type": "code",
   "execution_count": 1,
   "id": "df333094",
   "metadata": {},
   "outputs": [],
   "source": [
    "import rasterio\n",
    "\n",
    "#Path to your TIFF file\n",
    "tiff_path= './orthomosaic.data.tif'\n",
    "\n",
    "def analyze_tiff(tiff_path):\n",
    "    with rasterio.open(tiff_path) as src:\n",
    "        #Extract and print metadata\n",
    "        print(\"TIFF File Analysis\")\n",
    "        print(\"===================\")\n",
    "        print(f\"File: {tiff_path}\")\n",
    "        print(f\"CRS: {src.crs}\")\n",
    "        print(f\"Number of Bands: {src.count}\")\n",
    "        print(f\"Width: {src.width}\")\n",
    "        print(f\"Height: {src.height}\")\n",
    "        print(f\"Bounds: {src.bounds}\")\n",
    "        print(f\"Driver: {src.driver}\")\n",
    "        print(f\"Data Type: {src.dtypes[0]}\")\n",
    "        print(f\"Transform: {src.transform}\")\n",
    "        print(f\"Metadata: {src.meta}\")\n",
    "        \n",
    "        # Band-specific metadata\n",
    "        for band in range(1, src.count + 1):\n",
    "            band_data = src.read(band)\n",
    "            print(f\"\\nBand {band}:\")\n",
    "            print(f\"  Min: {band_data.min()}\")\n",
    "            print(f\"  Max: {band_data.max()}\")\n",
    "            print(f\"  Mean: {band_data.mean()}\")\n",
    "            print(f\"  Standard Deviation: {band_data.std()}\")\n",
    "            print(f\"  Shape: {band_data.shape}\")"
   ]
  },
  {
   "cell_type": "code",
   "execution_count": 2,
   "id": "bfd20f2f",
   "metadata": {},
   "outputs": [
    {
     "name": "stdout",
     "output_type": "stream",
     "text": [
      "TIFF File Analysis\n",
      "===================\n",
      "File: ./orthomosaic.data.tif\n",
      "CRS: EPSG:32644\n",
      "Number of Bands: 6\n",
      "Width: 14454\n",
      "Height: 14066\n",
      "Bounds: BoundingBox(left=492872.9809624938, bottom=3147332.788182094, right=493153.04352002585, top=3147605.3328018705)\n",
      "Driver: GTiff\n",
      "Data Type: float32\n",
      "Transform: | 0.02, 0.00, 492872.98|\n",
      "| 0.00,-0.02, 3147605.33|\n",
      "| 0.00, 0.00, 1.00|\n",
      "Metadata: {'driver': 'GTiff', 'dtype': 'float32', 'nodata': -10000.0, 'width': 14454, 'height': 14066, 'count': 6, 'crs': CRS.from_epsg(32644), 'transform': Affine(0.019376128236616837, 0.0, 492872.9809624938,\n",
      "       0.0, -0.019376128236616837, 3147605.3328018705)}\n",
      "\n",
      "Band 1:\n",
      "  Min: -10000.0\n",
      "  Max: 0.1653611809015274\n",
      "  Mean: -3974.4697265625\n",
      "  Standard Deviation: 4893.6552734375\n",
      "  Shape: (14066, 14454)\n",
      "\n",
      "Band 2:\n",
      "  Min: -10000.0\n",
      "  Max: 0.2317124605178833\n",
      "  Mean: -3974.018310546875\n",
      "  Standard Deviation: 4893.60400390625\n",
      "  Shape: (14066, 14454)\n",
      "\n",
      "Band 3:\n",
      "  Min: -10000.0\n",
      "  Max: 0.21030177175998688\n",
      "  Mean: -3974.0419921875\n",
      "  Standard Deviation: 4893.60205078125\n",
      "  Shape: (14066, 14454)\n",
      "\n",
      "Band 4:\n",
      "  Min: -10000.0\n",
      "  Max: 0.23867560923099518\n",
      "  Mean: -3974.506103515625\n",
      "  Standard Deviation: 4893.70166015625\n",
      "  Shape: (14066, 14454)\n",
      "\n",
      "Band 5:\n",
      "  Min: -10000.0\n",
      "  Max: 0.29491183161735535\n",
      "  Mean: -3974.07470703125\n",
      "  Standard Deviation: 4893.67333984375\n",
      "  Shape: (14066, 14454)\n",
      "\n",
      "Band 6:\n",
      "  Min: -10000.0\n",
      "  Max: 255.0\n",
      "  Mean: -1652.0928955078125\n",
      "  Standard Deviation: 3920.171142578125\n",
      "  Shape: (14066, 14454)\n"
     ]
    }
   ],
   "source": [
    "# Call the function to analyze the TIFF file\n",
    "analyze_tiff(tiff_path)"
   ]
  },
  {
   "cell_type": "code",
   "execution_count": null,
   "id": "bdfc1a1e",
   "metadata": {},
   "outputs": [],
   "source": []
  }
 ],
 "metadata": {
  "kernelspec": {
   "display_name": "Python 3 (ipykernel)",
   "language": "python",
   "name": "python3"
  },
  "language_info": {
   "codemirror_mode": {
    "name": "ipython",
    "version": 3
   },
   "file_extension": ".py",
   "mimetype": "text/x-python",
   "name": "python",
   "nbconvert_exporter": "python",
   "pygments_lexer": "ipython3",
   "version": "3.11.5"
  }
 },
 "nbformat": 4,
 "nbformat_minor": 5
}
