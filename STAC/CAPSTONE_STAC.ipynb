{
  "nbformat": 4,
  "nbformat_minor": 0,
  "metadata": {
    "colab": {
      "provenance": []
    },
    "kernelspec": {
      "name": "python3",
      "display_name": "Python 3"
    },
    "language_info": {
      "name": "python"
    }
  },
  "cells": [
    {
      "cell_type": "code",
      "execution_count": null,
      "metadata": {
        "colab": {
          "base_uri": "https://localhost:8080/"
        },
        "id": "wVkyG4D0bGcD",
        "outputId": "b9cb2c4c-fde5-4ffd-85a5-4792538b1935"
      },
      "outputs": [
        {
          "output_type": "stream",
          "name": "stdout",
          "text": [
            "Collecting gdal-utils\n",
            "  Downloading gdal_utils-3.8.5.0-py3-none-any.whl (338 kB)\n",
            "\u001b[?25l     \u001b[90m━━━━━━━━━━━━━━━━━━━━━━━━━━━━━━━━━━━━━━━━\u001b[0m \u001b[32m0.0/338.1 kB\u001b[0m \u001b[31m?\u001b[0m eta \u001b[36m-:--:--\u001b[0m\r\u001b[2K     \u001b[91m━━━━━━━━━━\u001b[0m\u001b[91m╸\u001b[0m\u001b[90m━━━━━━━━━━━━━━━━━━━━━━━━━━━━━\u001b[0m \u001b[32m92.2/338.1 kB\u001b[0m \u001b[31m2.5 MB/s\u001b[0m eta \u001b[36m0:00:01\u001b[0m\r\u001b[2K     \u001b[91m━━━━━━━━━━━━━━━━━━━━━━━━━━━━━━━━━━━━━━━\u001b[0m\u001b[91m╸\u001b[0m \u001b[32m337.9/338.1 kB\u001b[0m \u001b[31m6.3 MB/s\u001b[0m eta \u001b[36m0:00:01\u001b[0m\r\u001b[2K     \u001b[90m━━━━━━━━━━━━━━━━━━━━━━━━━━━━━━━━━━━━━━━━\u001b[0m \u001b[32m338.1/338.1 kB\u001b[0m \u001b[31m4.4 MB/s\u001b[0m eta \u001b[36m0:00:00\u001b[0m\n",
            "\u001b[?25hRequirement already satisfied: gdal in /usr/local/lib/python3.10/dist-packages (from gdal-utils) (3.6.4)\n",
            "Installing collected packages: gdal-utils\n",
            "Successfully installed gdal-utils-3.8.5.0\n"
          ]
        }
      ],
      "source": [
        "!pip install gdal-utils"
      ]
    },
    {
      "cell_type": "code",
      "source": [
        "!pip install pystac"
      ],
      "metadata": {
        "colab": {
          "base_uri": "https://localhost:8080/"
        },
        "id": "WVz3fZUNgr1o",
        "outputId": "80e7ea3e-6209-4b49-fa56-4692350ee34e"
      },
      "execution_count": null,
      "outputs": [
        {
          "output_type": "stream",
          "name": "stdout",
          "text": [
            "Collecting pystac\n",
            "  Downloading pystac-1.10.1-py3-none-any.whl (182 kB)\n",
            "\u001b[?25l     \u001b[90m━━━━━━━━━━━━━━━━━━━━━━━━━━━━━━━━━━━━━━━━\u001b[0m \u001b[32m0.0/182.9 kB\u001b[0m \u001b[31m?\u001b[0m eta \u001b[36m-:--:--\u001b[0m\r\u001b[2K     \u001b[91m━━━━━━━━━━━━━━━━━━━━━━━━━━━━━━━━━━━━━━\u001b[0m\u001b[90m╺\u001b[0m\u001b[90m━\u001b[0m \u001b[32m174.1/182.9 kB\u001b[0m \u001b[31m5.1 MB/s\u001b[0m eta \u001b[36m0:00:01\u001b[0m\r\u001b[2K     \u001b[90m━━━━━━━━━━━━━━━━━━━━━━━━━━━━━━━━━━━━━━━━\u001b[0m \u001b[32m182.9/182.9 kB\u001b[0m \u001b[31m3.8 MB/s\u001b[0m eta \u001b[36m0:00:00\u001b[0m\n",
            "\u001b[?25hRequirement already satisfied: python-dateutil>=2.7.0 in /usr/local/lib/python3.10/dist-packages (from pystac) (2.8.2)\n",
            "Requirement already satisfied: six>=1.5 in /usr/local/lib/python3.10/dist-packages (from python-dateutil>=2.7.0->pystac) (1.16.0)\n",
            "Installing collected packages: pystac\n",
            "Successfully installed pystac-1.10.1\n"
          ]
        }
      ]
    },
    {
      "cell_type": "code",
      "source": [
        "from osgeo import gdal"
      ],
      "metadata": {
        "id": "GodxNqpCbKqn"
      },
      "execution_count": null,
      "outputs": []
    },
    {
      "cell_type": "code",
      "source": [
        "def split_tiff(input_tiff, output_folder, chip_size):\n",
        "  dataset= gdal.Open(input_tiff)\n",
        "  width, height= dataset.RasterXSize, dataset.RasterYSize\n",
        "\n",
        "  for i in range(0, width, chip_size):\n",
        "    for j in range(0, height, chip_size):\n",
        "      w= min(chip_size, width-i)\n",
        "      h= min(chip_size, height-j)\n",
        "      gdal.Translate(\n",
        "          f\"{output_folder}/chip_{i}_{j}.tif\",\n",
        "          dataset,\n",
        "          srcWin= [i,j, w, h],\n",
        "          format=\"GTiff\"\n",
        "      )\n",
        "\n",
        "#using\n",
        "split_tiff(\"Orthomosaic.rgb1108_75.tif\", \"sample data\", 1024)"
      ],
      "metadata": {
        "id": "ABUfsKBRbz0w"
      },
      "execution_count": null,
      "outputs": []
    },
    {
      "cell_type": "code",
      "source": [
        "import os\n",
        "import pystac\n",
        "from datetime import datetime"
      ],
      "metadata": {
        "id": "yXts-CSfdyVS"
      },
      "execution_count": null,
      "outputs": []
    },
    {
      "cell_type": "code",
      "source": [
        "#Function for creating a STAC item\n",
        "def create_stac_item(chip_path, bbox):\n",
        "  item= pystac.Item(\n",
        "      id= os.path.basename(chip_path),\n",
        "      geometry= {\n",
        "          \"type\": \"Polygon\",\n",
        "          \"coordinates\": [[\n",
        "              [bbox[0], bbox[3]],\n",
        "              [bbox[2], bbox[3]],\n",
        "              [bbox[2], bbox[1]],\n",
        "              [bbox[0], bbox[1]],\n",
        "              [bbox[0], bbox[3]]\n",
        "          ]]\n",
        "      },\n",
        "      bbox= bbox,\n",
        "      datetime= datetime.utcnow(),\n",
        "      properties={}\n",
        "  )\n",
        "\n",
        "  asset= pystac.Asset(href=chip_path, media_type=pystac.MediaType.GEOTIFF)\n",
        "  item.add_asset('data', asset)\n",
        "  return item\n",
        "\n",
        "#Function for getting bounding box from a TIFF file\n",
        "def get_bbox(tiff_path):\n",
        "  ds= gdal.Open(tiff_path)\n",
        "  gt= ds.GetGeoTransform()\n",
        "  minx= gt[0]\n",
        "  maxy= gt[3]\n",
        "  maxx= minx + (gt[1] * ds.RasterXSize)\n",
        "  miny= maxy + (gt[5] * ds.RasterYSize)\n",
        "  return [minx, miny, maxx, maxy]\n",
        "\n",
        "#Reading TIFF files in the 'sample data' folder\n",
        "chip_paths= [os.path.join(\"sample data\", f) for f in os.listdir(\"sample data\") if f.endswith('.tif')]\n",
        "\n",
        "\n",
        "#Creating STAC items\n",
        "items= []\n",
        "for chip_path in chip_paths:\n",
        "  bbox= get_bbox(chip_path)\n",
        "  item = create_stac_item(chip_path, bbox)\n",
        "  items.append(item)\n",
        "\n",
        "#Creating a STAC collection\n",
        "collection= pystac.Collection(\n",
        "    id=\"sample_data_collection\",\n",
        "    description=\"A collection of orthomosaic chips\",\n",
        "    extent=pystac.Extent(\n",
        "        pystac.SpatialExtent([item.bbox for item in items]),\n",
        "        pystac.TemporalExtent([[item.datetime, item.datetime] for item in items])\n",
        "    ),\n",
        "    license=\"CC-BY-4.0\"\n",
        ")\n",
        "\n",
        "for item in items:\n",
        "  collection.add_item(item)\n",
        "\n",
        "#Saving the collection to the folder\n",
        "output_dir= \"STAC folder\"\n",
        "os.makedirs(output_dir, exist_ok=True)\n",
        "collection.normalize_hrefs(output_dir)\n",
        "collection.save(catalog_type=pystac.CatalogType.SELF_CONTAINED)\n",
        "\n",
        "print(\"STAC collection created and saved.\")"
      ],
      "metadata": {
        "colab": {
          "base_uri": "https://localhost:8080/"
        },
        "id": "XhsXz4xJhBJZ",
        "outputId": "7e2ad48f-1a55-4c67-cb85-27560acc0a02"
      },
      "execution_count": null,
      "outputs": [
        {
          "output_type": "stream",
          "name": "stdout",
          "text": [
            "STAC collection created and saved.\n"
          ]
        }
      ]
    },
    {
      "cell_type": "code",
      "source": [],
      "metadata": {
        "id": "ypLjAfC_k4fm"
      },
      "execution_count": null,
      "outputs": []
    }
  ]
}